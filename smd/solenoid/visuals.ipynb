{
 "cells": [
  {
   "cell_type": "code",
   "execution_count": null,
   "metadata": {},
   "outputs": [],
   "source": [
    "import mbuild as mb"
   ]
  },
  {
   "cell_type": "code",
   "execution_count": null,
   "metadata": {},
   "outputs": [],
   "source": [
    "pdb_file = '/data/yang_lab/nehilpkd/biomatsims/smd/solenoid/workspace/c689d3258da041a1dddc343d87c11dd4/0_preprocess/1m8n_cut.pdb'\n",
    "compound = mb.load(pdb_file)\n",
    "compound.visualize()"
   ]
  },
  {
   "cell_type": "code",
   "execution_count": null,
   "metadata": {},
   "outputs": [],
   "source": [
    "import mbuild as mb\n",
    "\n",
    "def extend_beta_solenoid(original_solenoid, c_oxygen, n_hydrogen=None, fibril_axis = 2):\n",
    "    \"\"\"Extend the length of a beta solenoid protein.\"\"\"\n",
    "    # Create a copy of the solenoid and remove N terminal\n",
    "    extended_solenoid = mb.clone(original_solenoid)\n",
    "    if n_hydrogen is not None:\n",
    "        extended_solenoid.remove(extended_solenoid[n_hydrogen])\n",
    "\n",
    "    # Remove C terminal from the original solenoid\n",
    "    original_solenoid.remove(original_solenoid[c_oxygen])\n",
    "\n",
    "    # Add 'up' and 'down' ports to the removed terminals\n",
    "    ## Find CA atom of the C terminal\n",
    "    CA = [atom for atom in list(original_solenoid.particles())[:20] if atom.name == 'CA'][0]\n",
    "    nitro = [atom for atom in list(extended_solenoid.particles())[:20] if atom.name == 'N'][-1]\n",
    "    ## Find CA atom of the N terminal\n",
    "    down_port = mb.Port(anchor=CA, orientation=[0, 0, 1], separation=0.1)\n",
    "    up_port = mb.Port(anchor=nitro, orientation=[0, 0, -1], separation=0.1)\n",
    "\n",
    "    # Translate the cloned solenoid to bring N terminal in contact with C terminal\n",
    "    # shift_vector = nitro.pos - CA.pos\n",
    "\n",
    "    # shift_vector = shift_vector*3\n",
    "    shift_vector = CA.pos - nitro.pos\n",
    "    print(CA.pos, nitro.pos, shift_vector)\n",
    "    extended_solenoid.translate(shift_vector)\n",
    "\n",
    "    # Add ports to the cloned solenoid\n",
    "    original_solenoid.add(up_port, 'up')\n",
    "    extended_solenoid.add(down_port, 'down')\n",
    "\n",
    "    original_solenoid.add(extended_solenoid, 'extended_solenoid')\n",
    "\n",
    "\n",
    "    # Bond the two proteins into a single compound using force_overlap\n",
    "    mb.force_overlap(original_solenoid,  original_solenoid['up'], extended_solenoid['down'])\n",
    "\n",
    "    return original_solenoid\n",
    "\n",
    "# Load the solenoid\n",
    "solenoid = mb.load(pdb_file)\n",
    "extend_beta_solenoid(solenoid, c_oxygen = 0).visualize()"
   ]
  },
  {
   "cell_type": "code",
   "execution_count": null,
   "metadata": {},
   "outputs": [],
   "source": [
    "solenoid = mb.load(pdb_file)\n",
    "# solenoid[-2].name = 'S'\n",
    "solenoid.translate_to([0, 0, 0])\n",
    "copy = mb.clone(solenoid)\n",
    "copy.translate([0, 3, 0])\n",
    "new_copy = mb.clone(solenoid)\n",
    "new_copy.translate([0, 6, 0])\n",
    "solenoid.add(copy)\n",
    "solenoid.add(new_copy) \n",
    "solenoid.visualize()"
   ]
  },
  {
   "cell_type": "code",
   "execution_count": null,
   "metadata": {},
   "outputs": [],
   "source": []
  }
 ],
 "metadata": {
  "kernelspec": {
   "display_name": "biomatsims",
   "language": "python",
   "name": "python3"
  },
  "language_info": {
   "codemirror_mode": {
    "name": "ipython",
    "version": 3
   },
   "file_extension": ".py",
   "mimetype": "text/x-python",
   "name": "python",
   "nbconvert_exporter": "python",
   "pygments_lexer": "ipython3",
   "version": "3.9.18"
  }
 },
 "nbformat": 4,
 "nbformat_minor": 2
}
