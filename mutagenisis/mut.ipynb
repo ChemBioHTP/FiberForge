{
 "cells": [
  {
   "cell_type": "code",
   "execution_count": 1,
   "metadata": {},
   "outputs": [],
   "source": [
    "import rotkit\n",
    "from pymol import cmd"
   ]
  },
  {
   "cell_type": "code",
   "execution_count": 9,
   "metadata": {},
   "outputs": [],
   "source": [
    "mol = pymol.cmd.load('https://files.rcsb.org/view/1HP1.pdb')"
   ]
  },
  {
   "cell_type": "code",
   "execution_count": 13,
   "metadata": {},
   "outputs": [
    {
     "name": "stdout",
     "output_type": "stream",
     "text": [
      "Selected!PyMOL>refresh_wizard\n",
      "\n",
      " ExecutiveRMSPairs: RMSD =    0.000 (4 to 4 atoms)\n",
      " Mutagenesis: 3 rotamers loaded.\n",
      " Rotamer 2/3, strain=15.86\n"
     ]
    }
   ],
   "source": [
    "MutList = [[\"1HP1\",\"A\",515]]\n",
    "for p,c,r in MutList:\n",
    "   rotkit.mutate(p, chain=c, resi=r, target=\"CYS\", mutframe=1)\n",
    "for p,c,r in MutList:\n",
    "   cmd.select(\"%s%s%s\"%(p,c,r),\"/%s//%s/%s\"%((p,c,r)))\n",
    "cmd.save('mut.pdb')"
   ]
  }
 ],
 "metadata": {
  "kernelspec": {
   "display_name": "biomatsims",
   "language": "python",
   "name": "python3"
  },
  "language_info": {
   "codemirror_mode": {
    "name": "ipython",
    "version": 3
   },
   "file_extension": ".py",
   "mimetype": "text/x-python",
   "name": "python",
   "nbconvert_exporter": "python",
   "pygments_lexer": "ipython3",
   "version": "3.9.18"
  },
  "orig_nbformat": 4
 },
 "nbformat": 4,
 "nbformat_minor": 2
}
